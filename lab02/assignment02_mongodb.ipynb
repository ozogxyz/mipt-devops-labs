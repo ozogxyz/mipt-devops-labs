{
 "cells": [
  {
   "cell_type": "code",
   "execution_count": null,
   "id": "dd27d0fc-10cd-46ac-bd10-294a20b16a79",
   "metadata": {
    "tags": []
   },
   "outputs": [],
   "source": [
    "from pymongo import MongoClient\n",
    "import csv"
   ]
  },
  {
   "cell_type": "code",
   "execution_count": null,
   "id": "1fb7c7e0-0a60-4980-8611-aa8983d9e164",
   "metadata": {
    "tags": []
   },
   "outputs": [],
   "source": [
    "client = MongoClient(\"backend:27017\")\n",
    "db = client[\"lab02\"]\n",
    "collection = db[\"matches\"]"
   ]
  },
  {
   "cell_type": "code",
   "execution_count": null,
   "id": "34a782c2-8c9b-4e44-b12e-921a5e343180",
   "metadata": {
    "tags": []
   },
   "outputs": [],
   "source": [
    "data_path = \"matches_serie-a.csv\""
   ]
  },
  {
   "cell_type": "code",
   "execution_count": null,
   "id": "430a7fbd-ff8d-47ab-aad3-9ba89a271862",
   "metadata": {
    "tags": []
   },
   "outputs": [],
   "source": [
    "with open(data_path, \"r\") as csvfile:\n",
    "    reader = csv.DictReader(csvfile)\n",
    "    # headers = next(csv.reader(csvfile))\n",
    "    for row in reader:\n",
    "        collection.insert_one(row)"
   ]
  },
  {
   "cell_type": "code",
   "execution_count": null,
   "id": "dbbde9c7-0009-48ba-98f2-17088435b2ff",
   "metadata": {
    "tags": []
   },
   "outputs": [
    {
     "name": "stdout",
     "output_type": "stream",
     "text": [
      "{'_id': ObjectId('64270bd47068eb21b020c8f6'), 'id': '0', 'date': '2022-08-15', 'time': '18:30', 'comp': 'Serie A', 'round': 'Matchweek 1', 'day': 'Mon', 'venue': 'Away', 'result': 'W', 'gf': '5', 'ga': '2', 'opponent': 'Hellas Verona', 'xg': '2.4', 'xga': '1.1', 'poss': '66.0', 'attendance': '16967.0', 'captain': 'Giovanni Di Lorenzo', 'formation': '4-3-3', 'referee': 'Michael Fabbri', 'match report': 'Match Report', 'notes': '', 'sh': '25.0', 'sot': '8.0', 'dist': '15.2', 'fk': '0.0', 'pk': '0.0', 'pkatt': '0.0', 'season': '2023', 'team': 'Napoli'}\n"
     ]
    }
   ],
   "source": [
    "match_details = collection.find()\n",
    "for match in match_details:\n",
    "    print(match)\n",
    "    break"
   ]
  }
 ],
 "metadata": {
  "kernelspec": {
   "display_name": "Python 3 (ipykernel)",
   "language": "python",
   "name": "python3"
  },
  "language_info": {
   "codemirror_mode": {
    "name": "ipython",
    "version": 3
   },
   "file_extension": ".py",
   "mimetype": "text/x-python",
   "name": "python",
   "nbconvert_exporter": "python",
   "pygments_lexer": "ipython3",
   "version": "3.10.10"
  }
 },
 "nbformat": 4,
 "nbformat_minor": 5
}
